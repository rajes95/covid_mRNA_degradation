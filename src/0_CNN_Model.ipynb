{
 "cells": [
  {
   "cell_type": "markdown",
   "metadata": {
    "id": "jS5ABq2y0jtB"
   },
   "source": [
    "CS7140\n",
    "\n",
    "Rajesh Sakhamuru\n",
    "\n",
    "Zhiyu Chen\n",
    "\n",
    "# CNN Model for mRNA Degredation Prediction\n"
   ]
  },
  {
   "cell_type": "code",
   "execution_count": 1,
   "metadata": {
    "colab": {
     "base_uri": "https://localhost:8080/"
    },
    "executionInfo": {
     "elapsed": 15465,
     "status": "ok",
     "timestamp": 1608063042709,
     "user": {
      "displayName": "Rajesh Sakhamuru",
      "photoUrl": "https://lh3.googleusercontent.com/a-/AOh14GghvhYjI-3U4ixKuEvU4yADO_DCTjd0FEKFTi_glQ=s64",
      "userId": "15561048639431090619"
     },
     "user_tz": 480
    },
    "id": "9YKGLaHp-Fd2",
    "outputId": "22919082-38f5-4149-e8c9-589c06902fa3"
   },
   "outputs": [
    {
     "name": "stdout",
     "output_type": "stream",
     "text": [
      "Mounted at /content/drive\n"
     ]
    }
   ],
   "source": [
    "from google.colab import drive\n",
    "drive.mount('/content/drive')"
   ]
  },
  {
   "cell_type": "code",
   "execution_count": 11,
   "metadata": {
    "executionInfo": {
     "elapsed": 299,
     "status": "ok",
     "timestamp": 1608063202921,
     "user": {
      "displayName": "Rajesh Sakhamuru",
      "photoUrl": "https://lh3.googleusercontent.com/a-/AOh14GghvhYjI-3U4ixKuEvU4yADO_DCTjd0FEKFTi_glQ=s64",
      "userId": "15561048639431090619"
     },
     "user_tz": 480
    },
    "id": "wZDMz9ScxJuT"
   },
   "outputs": [],
   "source": [
    "import json\n",
    "import sys\n",
    "import pandas as pd\n",
    "import numpy as np\n",
    "import matplotlib.pyplot as plt\n",
    "from sklearn.preprocessing import LabelEncoder, OneHotEncoder\n",
    "\n",
    "import torch\n",
    "from torch import nn\n",
    "from torch.utils.data import Dataset, DataLoader"
   ]
  },
  {
   "cell_type": "code",
   "execution_count": 3,
   "metadata": {
    "executionInfo": {
     "elapsed": 3500,
     "status": "ok",
     "timestamp": 1608063048166,
     "user": {
      "displayName": "Rajesh Sakhamuru",
      "photoUrl": "https://lh3.googleusercontent.com/a-/AOh14GghvhYjI-3U4ixKuEvU4yADO_DCTjd0FEKFTi_glQ=s64",
      "userId": "15561048639431090619"
     },
     "user_tz": 480
    },
    "id": "s6Mo8QeKCwWD"
   },
   "outputs": [],
   "source": [
    "def oneHotEncode(rowDict):\n",
    "    \"\"\"\n",
    "    One-hot encode a single sample's sequence data\n",
    "    \"\"\"\n",
    "    categories = ['ACGU', '.()', 'BEHIMSX']\n",
    "\n",
    "    seq = rowDict['sequence']\n",
    "    oneHotSeq = np.zeros((len(seq),len(categories[0])))\n",
    "    for i, char in enumerate(seq):\n",
    "        oneHotSeq[i, categories[0].index(char)] = 1\n",
    "\n",
    "    struc = rowDict['structure']\n",
    "    oneHotStruc = np.zeros((len(struc),len(categories[1])))\n",
    "    for i, char in enumerate(struc):\n",
    "        oneHotStruc[i, categories[1].index(char)] = 1\n",
    "\n",
    "    loop = rowDict['predicted_loop_type']\n",
    "    oneHotLoop = np.zeros((len(loop),len(categories[2])))\n",
    "    for i, char in enumerate(loop):\n",
    "        oneHotLoop[i, categories[2].index(char)] = 1\n",
    "\n",
    "    return np.hstack([oneHotSeq, oneHotStruc, oneHotLoop])"
   ]
  },
  {
   "cell_type": "code",
   "execution_count": 4,
   "metadata": {
    "executionInfo": {
     "elapsed": 1798,
     "status": "ok",
     "timestamp": 1608063048167,
     "user": {
      "displayName": "Rajesh Sakhamuru",
      "photoUrl": "https://lh3.googleusercontent.com/a-/AOh14GghvhYjI-3U4ixKuEvU4yADO_DCTjd0FEKFTi_glQ=s64",
      "userId": "15561048639431090619"
     },
     "user_tz": 480
    },
    "id": "BmUeEOt_bqd8"
   },
   "outputs": [],
   "source": [
    "def encode_timeSteps(idx, oneHotRow, numFeatures):\n",
    "    \"\"\"\n",
    "    Each timestep per one hot encoded row is encoded as just \n",
    "    the surrounding characters, and not the entire sequence, so that\n",
    "    the entire length of the sequence doesn't really matter for predictions\n",
    "    \"\"\"\n",
    "    halfNumFeats = (numFeatures-1)//2\n",
    "    if idx - halfNumFeats < 0:\n",
    "        timeStepFeats = oneHotRow[:idx+halfNumFeats+1]\n",
    "        padding = np.zeros((int(halfNumFeats - idx), timeStepFeats.shape[1]))\n",
    "        timeStepFeats = np.vstack([padding, timeStepFeats])\n",
    "\n",
    "    elif idx + halfNumFeats + 1 > len(oneHotRow):\n",
    "        timeStepFeats = oneHotRow[idx-halfNumFeats:]\n",
    "        padding = np.zeros((int(halfNumFeats-(len(oneHotRow)-idx))+1, timeStepFeats.shape[1]))\n",
    "        timeStepFeats = np.vstack([timeStepFeats, padding])\n",
    "    else:\n",
    "        timeStepFeats = oneHotRow[idx-halfNumFeats:idx+halfNumFeats+1]\n",
    "    \n",
    "    return timeStepFeats"
   ]
  },
  {
   "cell_type": "code",
   "execution_count": 5,
   "metadata": {
    "executionInfo": {
     "elapsed": 537,
     "status": "ok",
     "timestamp": 1608063048168,
     "user": {
      "displayName": "Rajesh Sakhamuru",
      "photoUrl": "https://lh3.googleusercontent.com/a-/AOh14GghvhYjI-3U4ixKuEvU4yADO_DCTjd0FEKFTi_glQ=s64",
      "userId": "15561048639431090619"
     },
     "user_tz": 480
    },
    "id": "sj4RoD9j9Y6m"
   },
   "outputs": [],
   "source": [
    "class prepDataset(Dataset):\n",
    "    \"\"\"\n",
    "    Load each one-hot timestep as a separate 'image' tensor, for training CNN\n",
    "    \"\"\"\n",
    "    def __init__(self, path, testFlag=False):\n",
    "        self.path = path\n",
    "        self.testFlag = testFlag\n",
    "        self.features = []\n",
    "        self.targets = []\n",
    "        self.ids = []\n",
    "        self.loadData()\n",
    "    \n",
    "    def __len__(self):\n",
    "        return len(self.features)\n",
    "    \n",
    "    def __getitem__(self, idx):\n",
    "        if self.testFlag:\n",
    "            return self.features[idx], self.ids[idx]\n",
    "        else:\n",
    "            return self.features[idx], self.targets[idx], self.ids[idx]\n",
    "\n",
    "    def loadData(self):\n",
    "        with open(self.path, 'r') as data:\n",
    "            for row in data:\n",
    "                rowDict = json.loads(row)\n",
    "                oneHotRow = oneHotEncode(rowDict)\n",
    "                \n",
    "                # Encode each time-step as an 'image' for CNN\n",
    "                for i in range(rowDict['seq_scored']):\n",
    "                    timeStepFeats = encode_timeSteps(i, oneHotRow, 21)\n",
    "                    self.features.append(timeStepFeats)\n",
    "                    self.ids.append('%s_%d' % (rowDict['id'], i))\n",
    "                    \n",
    "                if not self.testFlag:\n",
    "                    targets = np.stack([rowDict['reactivity'], rowDict['deg_Mg_pH10'], rowDict['deg_Mg_50C']], axis=1)\n",
    "                    self.targets.extend([targets[i] for i in range(rowDict['seq_scored'])])           "
   ]
  },
  {
   "cell_type": "code",
   "execution_count": 6,
   "metadata": {
    "executionInfo": {
     "elapsed": 368,
     "status": "ok",
     "timestamp": 1608063050096,
     "user": {
      "displayName": "Rajesh Sakhamuru",
      "photoUrl": "https://lh3.googleusercontent.com/a-/AOh14GghvhYjI-3U4ixKuEvU4yADO_DCTjd0FEKFTi_glQ=s64",
      "userId": "15561048639431090619"
     },
     "user_tz": 480
    },
    "id": "rgxC4kOr8JyL"
   },
   "outputs": [],
   "source": [
    "class reactivityModel(nn.Module):\n",
    "    \"\"\"\n",
    "    CNN model with convolution, pooling, dropout and dense layers\n",
    "    \"\"\"\n",
    "    count = 0\n",
    "    def __init__(self):\n",
    "        super(reactivityModel, self).__init__()\n",
    "        self.seqModel = nn.Sequential(\n",
    "            nn.Conv1d(in_channels=14,out_channels=32,kernel_size=1,stride=1),\n",
    "            nn.BatchNorm1d(num_features=32),\n",
    "            nn.PReLU(),\n",
    "            nn.Conv1d(in_channels=32,out_channels=64,kernel_size=5,stride=1),\n",
    "            nn.BatchNorm1d(num_features=64),\n",
    "            nn.PReLU(),\n",
    "            nn.Conv1d(in_channels=64,out_channels=128,kernel_size=1,stride=1),\n",
    "            nn.PReLU(),\n",
    "            nn.MaxPool1d(3, stride=2),\n",
    "            nn.Dropout(0.3),\n",
    "            nn.Flatten(),\n",
    "            nn.Linear(1024, 64),\n",
    "            nn.PReLU(),\n",
    "            nn.BatchNorm1d(num_features=64),\n",
    "            nn.Dropout(0.4),\n",
    "            nn.Linear(64, 64),\n",
    "            nn.PReLU(),\n",
    "            nn.BatchNorm1d(num_features=64),\n",
    "            nn.Dropout(0.5),\n",
    "            nn.Linear(64, 3)\n",
    "        )\n",
    "        \n",
    "    def forward(self, X):\n",
    "        return self.seqModel(X)"
   ]
  },
  {
   "cell_type": "markdown",
   "metadata": {
    "id": "D8P8AOCiDFSy"
   },
   "source": [
    "Output shapes for each layer in the CNN:\n",
    "```\n",
    "torch.Size([256, 32, 21])\n",
    "torch.Size([256, 32, 21])\n",
    "torch.Size([256, 32, 21])\n",
    "torch.Size([256, 64, 17])\n",
    "torch.Size([256, 64, 17])\n",
    "torch.Size([256, 64, 17])\n",
    "torch.Size([256, 128, 17])\n",
    "torch.Size([256, 128, 17])\n",
    "torch.Size([256, 128, 8])\n",
    "torch.Size([256, 128, 8])\n",
    "torch.Size([256, 1024])\n",
    "torch.Size([256, 64])\n",
    "torch.Size([256, 64])\n",
    "torch.Size([256, 64])\n",
    "torch.Size([256, 64])\n",
    "torch.Size([256, 64])\n",
    "torch.Size([256, 64])\n",
    "torch.Size([256, 64])\n",
    "torch.Size([256, 64])\n",
    "torch.Size([256, 3])\n",
    "```"
   ]
  },
  {
   "cell_type": "code",
   "execution_count": 7,
   "metadata": {
    "executionInfo": {
     "elapsed": 328,
     "status": "ok",
     "timestamp": 1608063055960,
     "user": {
      "displayName": "Rajesh Sakhamuru",
      "photoUrl": "https://lh3.googleusercontent.com/a-/AOh14GghvhYjI-3U4ixKuEvU4yADO_DCTjd0FEKFTi_glQ=s64",
      "userId": "15561048639431090619"
     },
     "user_tz": 480
    },
    "id": "h9o3ti1lSA_k"
   },
   "outputs": [],
   "source": [
    "def trainModel(trainDataLoader, epochs = 25, lr = 0.001, weightsPath = 'drive/MyDrive/Colab Notebooks/CS7140Models/covidCNNModel.pth'):\n",
    "    \"\"\"\n",
    "    Trains the CNN model for specified number of epochs at the specified learning rate.\n",
    "    \"\"\"\n",
    "    model = reactivityModel().cuda()\n",
    "    optimizer = torch.optim.Adam(model.parameters(), lr=lr)\n",
    "    lossFunc = nn.MSELoss()\n",
    "    lossPlot=[]\n",
    "    for epoch in range(epochs):\n",
    "        lossList = []\n",
    "        model.train()\n",
    "        for features, targets, ids in trainDataLoader:\n",
    "            features = features.cuda().permute(0,2,1).float()\n",
    "            targets = targets.cuda().float()\n",
    "            predictions = model(features)\n",
    "            loss = lossFunc(predictions, targets)\n",
    "\n",
    "            for p in model.parameters():\n",
    "                p.grad = None\n",
    "            \n",
    "            loss.backward()\n",
    "            optimizer.step()\n",
    "            lossList.append(loss.detach().cpu().numpy())\n",
    "        \n",
    "        avg_loss = float(np.mean(lossList))\n",
    "        print('Epoch:', epoch, 'Loss:', avg_loss)\n",
    "        lossPlot.append(avg_loss)\n",
    "    plt.plot(lossPlot)\n",
    "    plt.xlabel('epochs')\n",
    "    plt.ylabel('loss')\n",
    "    plt.show()\n",
    "    torch.save(model.state_dict(), weightsPath)"
   ]
  },
  {
   "cell_type": "code",
   "execution_count": 8,
   "metadata": {
    "executionInfo": {
     "elapsed": 309,
     "status": "ok",
     "timestamp": 1608063057618,
     "user": {
      "displayName": "Rajesh Sakhamuru",
      "photoUrl": "https://lh3.googleusercontent.com/a-/AOh14GghvhYjI-3U4ixKuEvU4yADO_DCTjd0FEKFTi_glQ=s64",
      "userId": "15561048639431090619"
     },
     "user_tz": 480
    },
    "id": "akoV3E8KzqvP"
   },
   "outputs": [],
   "source": [
    "dataFolder = \"drive/MyDrive/Colab Notebooks/CS7140 Final Project/stanford-covid/\"\n",
    "testPath = dataFolder + \"test.json\"\n",
    "trainPath = dataFolder + \"train.json\""
   ]
  },
  {
   "cell_type": "code",
   "execution_count": 9,
   "metadata": {
    "executionInfo": {
     "elapsed": 2603,
     "status": "ok",
     "timestamp": 1608063060599,
     "user": {
      "displayName": "Rajesh Sakhamuru",
      "photoUrl": "https://lh3.googleusercontent.com/a-/AOh14GghvhYjI-3U4ixKuEvU4yADO_DCTjd0FEKFTi_glQ=s64",
      "userId": "15561048639431090619"
     },
     "user_tz": 480
    },
    "id": "ULMTwK448E1g"
   },
   "outputs": [],
   "source": [
    "trainDataset = prepDataset(trainPath)\n",
    "trainDataLoader = DataLoader(trainDataset, batch_size=256, shuffle=True, num_workers=4,pin_memory=True)"
   ]
  },
  {
   "cell_type": "code",
   "execution_count": 12,
   "metadata": {
    "colab": {
     "base_uri": "https://localhost:8080/",
     "height": 565
    },
    "executionInfo": {
     "elapsed": 105651,
     "status": "ok",
     "timestamp": 1608063313297,
     "user": {
      "displayName": "Rajesh Sakhamuru",
      "photoUrl": "https://lh3.googleusercontent.com/a-/AOh14GghvhYjI-3U4ixKuEvU4yADO_DCTjd0FEKFTi_glQ=s64",
      "userId": "15561048639431090619"
     },
     "user_tz": 480
    },
    "id": "iVAYPQ8S7_8g",
    "outputId": "4a64243c-2bad-4dbc-fbf8-1361b56ccf66"
   },
   "outputs": [
    {
     "name": "stdout",
     "output_type": "stream",
     "text": [
      "Epoch: 0 Loss: 0.5735719203948975\n",
      "Epoch: 1 Loss: 0.4847065210342407\n",
      "Epoch: 2 Loss: 0.4736497402191162\n",
      "Epoch: 3 Loss: 0.4690217971801758\n",
      "Epoch: 4 Loss: 0.46416231989860535\n",
      "Epoch: 5 Loss: 0.45987468957901\n",
      "Epoch: 6 Loss: 0.4572766423225403\n",
      "Epoch: 7 Loss: 0.4553234577178955\n",
      "Epoch: 8 Loss: 0.45326581597328186\n",
      "Epoch: 9 Loss: 0.45089051127433777\n",
      "Epoch: 10 Loss: 0.4496517479419708\n",
      "Epoch: 11 Loss: 0.4480797350406647\n",
      "Epoch: 12 Loss: 0.4454289674758911\n",
      "Epoch: 13 Loss: 0.4456529915332794\n",
      "Epoch: 14 Loss: 0.4464813470840454\n"
     ]
    },
    {
     "data": {
      "image/png": "[encoded data removed]",
      "text/plain": [
       "<Figure size 432x288 with 1 Axes>"
      ]
     },
     "metadata": {
      "needs_background": "light",
      "tags": []
     },
     "output_type": "display_data"
    }
   ],
   "source": [
    "weightsPath = 'drive/MyDrive/Colab Notebooks/CS7140 Final Project/CS7140Models/covidCNNModel.pth'\n",
    "trainModel(trainDataLoader, epochs=15, lr=0.001, weightsPath=weightsPath)"
   ]
  },
  {
   "cell_type": "code",
   "execution_count": null,
   "metadata": {
    "id": "L10OyAoe1cdD"
   },
   "outputs": [],
   "source": [
    "testDataset = prepDataset(testPath, testFlag=True)\n",
    "testDataLoader = DataLoader(testDataset, batch_size=256, num_workers=4, drop_last=False, pin_memory=True)"
   ]
  },
  {
   "cell_type": "code",
   "execution_count": null,
   "metadata": {
    "colab": {
     "base_uri": "https://localhost:8080/"
    },
    "executionInfo": {
     "elapsed": 656,
     "status": "ok",
     "timestamp": 1608016820683,
     "user": {
      "displayName": "Rajesh Sakhamuru",
      "photoUrl": "https://lh3.googleusercontent.com/a-/AOh14Gh6A85dxIl7G3jJ0zNixy-sfvjCHVs8npNMKKBU=s64",
      "userId": "07235525343904158916"
     },
     "user_tz": 480
    },
    "id": "Gz_qp42SRXBt",
    "outputId": "48562468-9398-40af-8b92-e5eec162ed1b"
   },
   "outputs": [
    {
     "name": "stdout",
     "output_type": "stream",
     "text": [
      "torch.Size([256, 21, 14])\n",
      "torch.Size([256, 3])\n",
      "256\n"
     ]
    }
   ],
   "source": [
    "for feature,labels,ids in trainDataLoader:\n",
    "  print(feature.shape)\n",
    "  print(labels.shape)\n",
    "  print(len(ids))\n",
    "  break"
   ]
  },
  {
   "cell_type": "code",
   "execution_count": null,
   "metadata": {
    "colab": {
     "base_uri": "https://localhost:8080/",
     "height": 235
    },
    "executionInfo": {
     "elapsed": 148046,
     "status": "ok",
     "timestamp": 1608016396610,
     "user": {
      "displayName": "Rajesh Sakhamuru",
      "photoUrl": "https://lh3.googleusercontent.com/a-/AOh14Gh6A85dxIl7G3jJ0zNixy-sfvjCHVs8npNMKKBU=s64",
      "userId": "07235525343904158916"
     },
     "user_tz": 480
    },
    "id": "gG-fOxvL17H_",
    "outputId": "6db683b3-7e76-48ac-f522-afd991cabcb7"
   },
   "outputs": [
    {
     "data": {
      "text/html": [
       "<div>\n",
       "<style scoped>\n",
       "    .dataframe tbody tr th:only-of-type {\n",
       "        vertical-align: middle;\n",
       "    }\n",
       "\n",
       "    .dataframe tbody tr th {\n",
       "        vertical-align: top;\n",
       "    }\n",
       "\n",
       "    .dataframe thead th {\n",
       "        text-align: right;\n",
       "    }\n",
       "</style>\n",
       "<table border=\"1\" class=\"dataframe\">\n",
       "  <thead>\n",
       "    <tr style=\"text-align: right;\">\n",
       "      <th></th>\n",
       "      <th>reactivity</th>\n",
       "      <th>deg_Mg_pH10</th>\n",
       "      <th>deg_Mg_50C</th>\n",
       "    </tr>\n",
       "    <tr>\n",
       "      <th>id_seqpos</th>\n",
       "      <th></th>\n",
       "      <th></th>\n",
       "      <th></th>\n",
       "    </tr>\n",
       "  </thead>\n",
       "  <tbody>\n",
       "    <tr>\n",
       "      <th>id_00073f8be_0</th>\n",
       "      <td>0.608023</td>\n",
       "      <td>0.579971</td>\n",
       "      <td>0.539257</td>\n",
       "    </tr>\n",
       "    <tr>\n",
       "      <th>id_00073f8be_1</th>\n",
       "      <td>2.088875</td>\n",
       "      <td>3.104047</td>\n",
       "      <td>3.034355</td>\n",
       "    </tr>\n",
       "    <tr>\n",
       "      <th>id_00073f8be_2</th>\n",
       "      <td>1.210173</td>\n",
       "      <td>0.753603</td>\n",
       "      <td>0.899748</td>\n",
       "    </tr>\n",
       "    <tr>\n",
       "      <th>id_00073f8be_3</th>\n",
       "      <td>1.254127</td>\n",
       "      <td>0.964447</td>\n",
       "      <td>1.197333</td>\n",
       "    </tr>\n",
       "    <tr>\n",
       "      <th>id_00073f8be_4</th>\n",
       "      <td>0.657128</td>\n",
       "      <td>0.652678</td>\n",
       "      <td>0.705029</td>\n",
       "    </tr>\n",
       "  </tbody>\n",
       "</table>\n",
       "</div>"
      ],
      "text/plain": [
       "                reactivity  deg_Mg_pH10  deg_Mg_50C\n",
       "id_seqpos                                          \n",
       "id_00073f8be_0    0.608023     0.579971    0.539257\n",
       "id_00073f8be_1    2.088875     3.104047    3.034355\n",
       "id_00073f8be_2    1.210173     0.753603    0.899748\n",
       "id_00073f8be_3    1.254127     0.964447    1.197333\n",
       "id_00073f8be_4    0.657128     0.652678    0.705029"
      ]
     },
     "execution_count": 12,
     "metadata": {
      "tags": []
     },
     "output_type": "execute_result"
    }
   ],
   "source": [
    "sampleSubmPath = dataFolder + \"sample_submission.csv\"\n",
    "submissionDF = pd.read_csv(sampleSubmPath, index_col='id_seqpos')\n",
    "\n",
    "model = reactivityModel().cuda()\n",
    "model.load_state_dict(torch.load(weightsPath))\n",
    "model.eval()\n",
    "for testFeats, ids in testDataLoader:\n",
    "    testFeats = testFeats.cuda().permute(0,2,1).float()\n",
    "    preds = model(testFeats)\n",
    "    submissionDF.loc[ids,['reactivity', 'deg_Mg_pH10', 'deg_Mg_50C']] = preds.detach().cpu().numpy()\n",
    "submissionDF[['reactivity', 'deg_Mg_pH10', 'deg_Mg_50C']].head()"
   ]
  },
  {
   "cell_type": "code",
   "execution_count": null,
   "metadata": {
    "id": "ZkAy-XwjISkq"
   },
   "outputs": [],
   "source": [
    "submissionDF.to_csv(dataFolder+'CNNSubmission.csv')"
   ]
  },
  {
   "cell_type": "markdown",
   "metadata": {
    "id": "cnmPCDp2Opu0"
   },
   "source": [
    "![image.png](data:image/png;base64,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)"
   ]
  },
  {
   "cell_type": "markdown",
   "metadata": {
    "id": "7fj41caAOsfw"
   },
   "source": [
    "This submission would rank 1487 out of 1636 total submissions to the actual competition. CNN is not a very good method for predicting sequence data, so the results were not competitive, but did manage to do better than a reasonable number of official submissions made during the actual competition.\n",
    "\n",
    "The scores are based on MCRMSE (mean columnwise root mean squared error). The score which matters is the 'Public Score' which can be compared against other Kaggle user submissions from the actual competition."
   ]
  }
 ],
 "metadata": {
  "accelerator": "GPU",
  "colab": {
   "collapsed_sections": [],
   "name": "CS7140_Final_Project_CNN.ipynb",
   "provenance": []
  },
  "kernelspec": {
   "display_name": "Python 3",
   "language": "python",
   "name": "python3"
  },
  "language_info": {
   "codemirror_mode": {
    "name": "ipython",
    "version": 3
   },
   "file_extension": ".py",
   "mimetype": "text/x-python",
   "name": "python",
   "nbconvert_exporter": "python",
   "pygments_lexer": "ipython3",
   "version": "3.8.5"
  }
 },
 "nbformat": 4,
 "nbformat_minor": 4
}
