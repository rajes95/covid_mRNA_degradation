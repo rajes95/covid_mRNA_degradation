{
 "cells": [
  {
   "cell_type": "markdown",
   "metadata": {
    "id": "0Lzt6o9F1TOv"
   },
   "source": [
    "CS7140\n",
    "\n",
    "Rajesh Sakhamuru\n",
    "\n",
    "Zhiyu Chen\n",
    "\n",
    "# LSTM Model for mRNA Degredation Prediction with Attention Mechanism"
   ]
  },
  {
   "cell_type": "code",
   "execution_count": null,
   "metadata": {
    "colab": {
     "base_uri": "https://localhost:8080/"
    },
    "executionInfo": {
     "elapsed": 424,
     "status": "ok",
     "timestamp": 1608038164956,
     "user": {
      "displayName": "Rajesh Sakhamuru",
      "photoUrl": "https://lh3.googleusercontent.com/a-/AOh14GghvhYjI-3U4ixKuEvU4yADO_DCTjd0FEKFTi_glQ=s64",
      "userId": "15561048639431090619"
     },
     "user_tz": 480
    },
    "id": "uUsQgt4RA87F",
    "outputId": "9d5d0a06-e085-481c-ba55-667871336069"
   },
   "outputs": [
    {
     "name": "stdout",
     "output_type": "stream",
     "text": [
      "Drive already mounted at /content/drive; to attempt to forcibly remount, call drive.mount(\"/content/drive\", force_remount=True).\n"
     ]
    }
   ],
   "source": [
    "from google.colab import drive\n",
    "drive.mount('/content/drive')"
   ]
  },
  {
   "cell_type": "code",
   "execution_count": null,
   "metadata": {
    "id": "wZDMz9ScxJuT"
   },
   "outputs": [],
   "source": [
    "import json\n",
    "import sys\n",
    "import pandas as pd\n",
    "import numpy as np\n",
    "import matplotlib.pyplot as plt\n",
    "\n",
    "from sklearn.preprocessing import LabelEncoder, OneHotEncoder\n",
    "from sklearn.model_selection import train_test_split, KFold\n",
    "\n",
    "import torch\n",
    "from torch import nn\n",
    "from torch.utils.data import DataLoader, TensorDataset\n",
    "device = torch.device(\"cuda\" if torch.cuda.is_available() else \"cpu\")"
   ]
  },
  {
   "cell_type": "code",
   "execution_count": null,
   "metadata": {
    "id": "s6Mo8QeKCwWD"
   },
   "outputs": [],
   "source": [
    "def oneHotEncode(rowDict):\n",
    "    \"\"\"\n",
    "    One-hot encode a single sample's sequence data\n",
    "    \"\"\"\n",
    "    categories = ['ACGU', '.()', 'BEHIMSX']\n",
    "\n",
    "    seq = rowDict['sequence']\n",
    "    oneHotSeq = np.zeros((len(seq),3))\n",
    "    for i, char in enumerate(seq):\n",
    "        oneHotSeq[i,0] = categories[0].index(char)\n",
    "\n",
    "    struc = rowDict['structure']\n",
    "    for i, char in enumerate(struc):\n",
    "        oneHotSeq[i,1] = 4+categories[1].index(char)\n",
    "\n",
    "    loop = rowDict['predicted_loop_type']\n",
    "    for i, char in enumerate(loop):\n",
    "        oneHotSeq[i,2] = 7+categories[2].index(char)\n",
    "\n",
    "    return oneHotSeq"
   ]
  },
  {
   "cell_type": "code",
   "execution_count": null,
   "metadata": {
    "id": "PQLFmKS0GNfg"
   },
   "outputs": [],
   "source": [
    "def loadTrainData(filePath):\n",
    "    \"\"\"\n",
    "    Loads training and target feature data from the test.json sequence data.\n",
    "    One-hot encodes the data in the process.\n",
    "    \"\"\"\n",
    "    oneHotTrain = None\n",
    "    targetTrain = None\n",
    "    with open(filePath, 'r') as data:\n",
    "        for row in data:\n",
    "            rowDict = json.loads(row)\n",
    "            \n",
    "            # Removes noisy training samples where SN_filter == 0 (Signal/Noise filter)\n",
    "            if rowDict['SN_filter'] != 1:\n",
    "                continue\n",
    "            oneHotRow = oneHotEncode(rowDict)\n",
    "            targets = np.stack([rowDict['reactivity'], rowDict['deg_Mg_pH10'],rowDict['deg_pH10'], rowDict['deg_Mg_50C'], rowDict['deg_50C']], axis=1)\n",
    "            if oneHotTrain is None:\n",
    "                oneHotTrain = np.array([oneHotRow])\n",
    "                targetTrain = np.array([targets])\n",
    "                continue\n",
    "\n",
    "            oneHotTrain = np.append(oneHotTrain, [oneHotRow], axis=0)\n",
    "            targetTrain = np.append(targetTrain, [targets], axis=0)\n",
    "\n",
    "    return torch.tensor(oneHotTrain).to(torch.int64).to(device), torch.tensor(targetTrain).to(torch.float).to(device)"
   ]
  },
  {
   "cell_type": "code",
   "execution_count": null,
   "metadata": {
    "id": "ATMcC_DrBjDE"
   },
   "outputs": [],
   "source": [
    "def loadTestData(filePath):\n",
    "    \"\"\"\n",
    "    Loads the 107 length and 130 length sequence data for seperate competition testing  \n",
    "    One-hot encodes the data in the process.\n",
    "    We do not have target values for this data\n",
    "    \"\"\"\n",
    "    oneHotTest_107 = None\n",
    "    oneHotTest_130 = None\n",
    "\n",
    "    with open(filePath, 'r') as data:\n",
    "        for row in data:\n",
    "            rowDict = json.loads(row)\n",
    "            oneHotRow = oneHotEncode(rowDict)\n",
    "\n",
    "            if rowDict['seq_length'] == 107 and oneHotTest_107 is None:\n",
    "                oneHotTest_107 = np.array([oneHotRow])\n",
    "                continue\n",
    "            elif rowDict['seq_length'] == 130 and oneHotTest_130 is None:\n",
    "                oneHotTest_130 = np.array([oneHotRow])\n",
    "                continue\n",
    "\n",
    "            if rowDict['seq_length'] == 107:\n",
    "                oneHotTest_107 = np.append(oneHotTest_107, [oneHotRow], axis=0)\n",
    "            else:\n",
    "                oneHotTest_130 = np.append(oneHotTest_130, [oneHotRow], axis=0)\n",
    "\n",
    "    oneHotTest_107 = torch.tensor(oneHotTest_107).to(torch.int64).to(device)\n",
    "    oneHotTest_130 = torch.tensor(oneHotTest_130).to(torch.int64).to(device)\n",
    "\n",
    "    return oneHotTest_107, oneHotTest_130"
   ]
  },
  {
   "cell_type": "code",
   "execution_count": null,
   "metadata": {
    "id": "hxoP990YtMDl"
   },
   "outputs": [],
   "source": [
    "class ATT_LSTMBiDirecModel(nn.Module):\r\n",
    "    \"\"\"\r\n",
    "    Bi-directional LSTM model which takes 14-features 1-hot encoded at each timestep\r\n",
    "    with an attention layer for boosting long-term memory.\r\n",
    "    \"\"\"\r\n",
    "    def __init__(self, seqLen=107, predLen=68, hidLayers=3, embedDim=300, hidDim=128):\r\n",
    "        super(ATT_LSTMBiDirecModel, self).__init__()\r\n",
    "        self.predLen=predLen\r\n",
    "        self.embedding=nn.Embedding(14, embedDim)\r\n",
    "        self.lstmLayers = nn.LSTM(input_size=embedDim*3,\r\n",
    "                                  hidden_size=hidDim,\r\n",
    "                                  num_layers=hidLayers,\r\n",
    "                                  dropout=0.5,\r\n",
    "                                  bidirectional=True,\r\n",
    "                                  batch_first=True)\r\n",
    "        self.attention = nn.Linear(seqLen,seqLen,bias=False)\r\n",
    "        self.dropout = nn.Dropout(0.3)\r\n",
    "        self.linear = nn.Linear(hidDim*2, 5)\r\n",
    "\r\n",
    "    def forward(self,X):\r\n",
    "        embedLayer = self.embedding(X)\r\n",
    "        reshapedEmbedding = torch.reshape(embedLayer,(-1, embedLayer.shape[1], embedLayer.shape[2]*embedLayer.shape[3]))\r\n",
    "        lstm_output, _ = self.lstmLayers(reshapedEmbedding)\r\n",
    "        att_output = self.attention(lstm_output.transpose(1,2))\r\n",
    "        att_output_drop = self.dropout(att_output)\r\n",
    "        # Only make predictions for verifiable target values when training\r\n",
    "        hiddenVals = att_output_drop.transpose(1,2)[:,:self.predLen,:]\r\n",
    "        return self.linear(hiddenVals)"
   ]
  },
  {
   "cell_type": "code",
   "execution_count": null,
   "metadata": {
    "id": "IzPuIRytTlmo"
   },
   "outputs": [],
   "source": [
    "class LSTMBiDirecModel(nn.Module):\n",
    "    \"\"\"\n",
    "    Original Bi-directional LSTM model which takes 3-features with their 1-hot encoded column number at each timestep\n",
    "    \"\"\"\n",
    "    def __init__(self, seqLen=107, predLen=68, hidLayers=3, embedDim=300, hidDim=128):\n",
    "        super(LSTMBiDirecModel, self).__init__()\n",
    "        self.predLen=predLen\n",
    "        self.embedding=nn.Embedding(14, embedDim)\n",
    "        self.lstmLayers = nn.LSTM(input_size=embedDim*3,\n",
    "                                  hidden_size=hidDim,\n",
    "                                  num_layers=hidLayers,\n",
    "                                  dropout=0.5,\n",
    "                                  bidirectional=True,\n",
    "                                  batch_first=True)\n",
    "        self.linear = nn.Linear(hidDim*2, 5)\n",
    "\n",
    "    def forward(self,X):\n",
    "        embedLayer = self.embedding(X)\n",
    "        reshapedEmbedding = torch.reshape(embedLayer,(-1, embedLayer.shape[1], embedLayer.shape[2]*embedLayer.shape[3]))\n",
    "        output, _ = self.lstmLayers(reshapedEmbedding)\n",
    "        \n",
    "        # Only make predictions for verifiable target values when training\n",
    "        hiddenVals = output[:,:self.predLen,:]\n",
    "        return self.linear(hiddenVals)"
   ]
  },
  {
   "cell_type": "code",
   "execution_count": null,
   "metadata": {
    "id": "OUoPCNpNqjYn"
   },
   "outputs": [],
   "source": [
    "def calcLoss(X, Y, model, optimizer=None, isTrain=True):\n",
    "    \"\"\"\n",
    "    Calculate and backpropogate the loss based on the MSE loss function\n",
    "    \"\"\"\n",
    "    model.train(isTrain)\n",
    "    mseLoss = nn.MSELoss()\n",
    "    predictions = model(X)\n",
    "    loss = mseLoss(predictions, Y)\n",
    "    if isTrain:\n",
    "        optimizer.zero_grad()\n",
    "        loss.backward()\n",
    "        optimizer.step()\n",
    "    return loss.item()"
   ]
  },
  {
   "cell_type": "markdown",
   "metadata": {
    "id": "3x_E5SDfgDf1"
   },
   "source": [
    "4-fold cross validation for training LSTM model followed by validation"
   ]
  },
  {
   "cell_type": "code",
   "execution_count": null,
   "metadata": {
    "id": "Shq-8SlKtVWe"
   },
   "outputs": [],
   "source": [
    "def ATT_trainTestLSTMModel(oneHotTrain, targetTrain, test107DataLoader,test130DataLoader, lr=0.001, epochs=150, weightsPath='drive/MyDrive/Colab Notebooks/CS7140 Final Project/CS7140Models/att_covidLSTMModel.pth'):\r\n",
    "    \"\"\"\r\n",
    "    Run 4-fold cross validation on the dataset to train it, then make a weighted average of the predictions and return the \r\n",
    "    predicitons and model history. Also plots training vs validation loss per epoch.\r\n",
    "    \"\"\"\r\n",
    "    histories=[]\r\n",
    "    test107Preds = np.zeros((oneHotTest_107.shape[0], 107, 5))\r\n",
    "    test130Preds = np.zeros((oneHotTest_130.shape[0], 130, 5))\r\n",
    "\r\n",
    "    # 4-fold validation and take the average predictions of the 4 folds for final submission\r\n",
    "    kfold=KFold(n_splits=4, shuffle=True, random_state=42)\r\n",
    "    for foldNum, (trainIdx, valIdx) in enumerate(kfold.split(oneHotTrain)):\r\n",
    "        trainDataLoader = DataLoader(TensorDataset(oneHotTrain[trainIdx], targetTrain[trainIdx]), shuffle=True, batch_size=128)\r\n",
    "        valDataLoader = DataLoader(TensorDataset(oneHotTrain[valIdx], targetTrain[valIdx]), shuffle=False, batch_size=128)\r\n",
    "        \r\n",
    "        att_lstmModel = ATT_LSTMBiDirecModel().to(device)\r\n",
    "        optimizer = torch.optim.Adam(att_lstmModel.parameters(), lr=lr)\r\n",
    "        \r\n",
    "        trainLossList = []\r\n",
    "        valLossList = []\r\n",
    "\r\n",
    "        for epoch in range(epochs):\r\n",
    "            trainLoss = []\r\n",
    "            valLoss = []\r\n",
    "            for X, Y in trainDataLoader:\r\n",
    "                trainLoss.append(calcLoss(X,Y,att_lstmModel, optimizer=optimizer, isTrain=True))\r\n",
    "            for X, Y in valDataLoader:\r\n",
    "                valLoss.append(calcLoss(X,Y,att_lstmModel, optimizer=optimizer, isTrain=False))\r\n",
    "            trainLossList.append(sum(trainLoss)/len(trainLoss))\r\n",
    "            valLossList.append(sum(valLoss)/len(valLoss))\r\n",
    "    \r\n",
    "        att_lstmWeightsState = att_lstmModel.state_dict()\r\n",
    "        del att_lstmModel\r\n",
    "\r\n",
    "        histories.append({'trainLoss':trainLossList, 'valLoss': valLossList})\r\n",
    "        \r\n",
    "        if foldNum == 0:\r\n",
    "            plt.plot(trainLossList,'b-',label='train')\r\n",
    "            plt.plot(valLossList,'g-',label='val')\r\n",
    "        else:\r\n",
    "            plt.plot(trainLossList,'b-')\r\n",
    "            plt.plot(valLossList,'g-')\r\n",
    "        \r\n",
    "        # load weights into model for length 107 sequences and make predictions\r\n",
    "        att_lstmTest107Model = ATT_LSTMBiDirecModel(seqLen=107,predLen=107).to(device)\r\n",
    "        att_lstmTest107Model.load_state_dict(att_lstmWeightsState)\r\n",
    "        # turn off dropout during evaluation\r\n",
    "        att_lstmTest107Model.eval()\r\n",
    "        predictions107 = np.ndarray((0,107,5))\r\n",
    "        for testData in test107DataLoader:\r\n",
    "            testData = testData[0]\r\n",
    "            pred107 = att_lstmTest107Model(testData)\r\n",
    "            pred107 = pred107.cpu().detach().numpy()\r\n",
    "            predictions107 = np.concatenate([predictions107, pred107], axis=0)\r\n",
    "        test107Preds += predictions107/4\r\n",
    "        \r\n",
    "        # load weights into model for length 130 sequences and make predictions\r\n",
    "        # weights from base LSTM model\r\n",
    "        weights130Path = 'drive/MyDrive/Colab Notebooks/CS7140 Final Project/CS7140Models/130_covidLSTMModel.pth'\r\n",
    "        lstmTest130Model = LSTMBiDirecModel(seqLen=130,predLen=130).to(device)\r\n",
    "        lstmTest130Model.load_state_dict(torch.load(weights130Path))\r\n",
    "        # turn off dropout during evaluation\r\n",
    "        lstmTest130Model.eval()\r\n",
    "        predictions130 = np.ndarray((0,130,5))\r\n",
    "        for testData in test130DataLoader:\r\n",
    "            testData = testData[0]\r\n",
    "            pred130 = lstmTest130Model(testData)\r\n",
    "            pred130 = pred130.cpu().detach().numpy()\r\n",
    "            predictions130 = np.concatenate([predictions130, pred130], axis=0)\r\n",
    "        test130Preds += predictions130/4\r\n",
    "\r\n",
    "        print(\"Fold:\",foldNum,\", ValidationLoss:\",valLossList[-1])\r\n",
    "\r\n",
    "        del att_lstmTest107Model, lstmTest130Model      \r\n",
    "    \r\n",
    "    plt.legend(loc='best')\r\n",
    "    plt.show()\r\n",
    "\r\n",
    "    return test107Preds, test130Preds, histories"
   ]
  },
  {
   "cell_type": "code",
   "execution_count": null,
   "metadata": {
    "id": "akoV3E8KzqvP"
   },
   "outputs": [],
   "source": [
    "dataFolder = \"drive/MyDrive/Colab Notebooks/CS7140 Final Project/stanford-covid/\"\n",
    "testPath = dataFolder + \"test.json\"\n",
    "trainPath = dataFolder + \"train.json\""
   ]
  },
  {
   "cell_type": "code",
   "execution_count": null,
   "metadata": {
    "id": "6rLfRRdJpklx"
   },
   "outputs": [],
   "source": [
    "oneHotTrain, targetTrain = loadTrainData(trainPath)"
   ]
  },
  {
   "cell_type": "code",
   "execution_count": null,
   "metadata": {
    "colab": {
     "base_uri": "https://localhost:8080/"
    },
    "executionInfo": {
     "elapsed": 6286,
     "status": "ok",
     "timestamp": 1608038170872,
     "user": {
      "displayName": "Rajesh Sakhamuru",
      "photoUrl": "https://lh3.googleusercontent.com/a-/AOh14GghvhYjI-3U4ixKuEvU4yADO_DCTjd0FEKFTi_glQ=s64",
      "userId": "15561048639431090619"
     },
     "user_tz": 480
    },
    "id": "RGWzm4OSKEOh",
    "outputId": "3b60ad3a-8171-42a9-d627-8b8d4628f3eb"
   },
   "outputs": [
    {
     "name": "stdout",
     "output_type": "stream",
     "text": [
      "Input Shape:  torch.Size([1589, 107, 3])\n",
      "Output Shape: torch.Size([1589, 68, 5])\n"
     ]
    }
   ],
   "source": [
    "# (samples, timesteps, features)\n",
    "print('Input Shape: ', oneHotTrain.shape)\n",
    "# Only the first 68 steps in the nucleotide sequence are scored in the training data\n",
    "print('Output Shape:', targetTrain.shape)"
   ]
  },
  {
   "cell_type": "code",
   "execution_count": null,
   "metadata": {
    "id": "Gsh8dticHCI8"
   },
   "outputs": [],
   "source": [
    "oneHotTest_107, oneHotTest_130 = loadTestData(testPath)\n",
    "\n",
    "test107DataLoader = DataLoader(TensorDataset(oneHotTest_107), shuffle=False, batch_size=128)\n",
    "test130DataLoader = DataLoader(TensorDataset(oneHotTest_130), shuffle=False, batch_size=128)"
   ]
  },
  {
   "cell_type": "code",
   "execution_count": null,
   "metadata": {
    "colab": {
     "base_uri": "https://localhost:8080/",
     "height": 341
    },
    "executionInfo": {
     "elapsed": 712910,
     "status": "ok",
     "timestamp": 1608038877507,
     "user": {
      "displayName": "Rajesh Sakhamuru",
      "photoUrl": "https://lh3.googleusercontent.com/a-/AOh14GghvhYjI-3U4ixKuEvU4yADO_DCTjd0FEKFTi_glQ=s64",
      "userId": "15561048639431090619"
     },
     "user_tz": 480
    },
    "id": "mULTGeMlxj_F",
    "outputId": "cc9f7ea7-5b59-4aca-d252-090203f991b5"
   },
   "outputs": [
    {
     "name": "stdout",
     "output_type": "stream",
     "text": [
      "Fold: 0 , ValidationLoss: 0.07343992777168751\n",
      "Fold: 1 , ValidationLoss: 0.07368341460824013\n",
      "Fold: 2 , ValidationLoss: 0.06638895347714424\n",
      "Fold: 3 , ValidationLoss: 0.06717887707054615\n"
     ]
    },
    {
     "data": {
      "image/png": "[encoded data removed]",
      "text/plain": [
       "<Figure size 432x288 with 1 Axes>"
      ]
     },
     "metadata": {
      "needs_background": "light",
      "tags": []
     },
     "output_type": "display_data"
    }
   ],
   "source": [
    "test107Preds, test130Preds, histories = ATT_trainTestLSTMModel(oneHotTrain, targetTrain, test107DataLoader, test130DataLoader, lr=0.0008, epochs=200)"
   ]
  },
  {
   "cell_type": "code",
   "execution_count": null,
   "metadata": {
    "colab": {
     "base_uri": "https://localhost:8080/"
    },
    "executionInfo": {
     "elapsed": 869668,
     "status": "ok",
     "timestamp": 1608039034272,
     "user": {
      "displayName": "Rajesh Sakhamuru",
      "photoUrl": "https://lh3.googleusercontent.com/a-/AOh14GghvhYjI-3U4ixKuEvU4yADO_DCTjd0FEKFTi_glQ=s64",
      "userId": "15561048639431090619"
     },
     "user_tz": 480
    },
    "id": "zmijAdkDE4pt",
    "outputId": "c353ba3c-fda4-4621-fea5-368c79a916d6"
   },
   "outputs": [
    {
     "name": "stdout",
     "output_type": "stream",
     "text": [
      "                  reactivity  deg_Mg_pH10  deg_pH10  deg_Mg_50C   deg_50C\n",
      "id_seqpos                                                                \n",
      "id_00073f8be_0      0.609807     0.677789  1.978338    0.548310  0.689297\n",
      "id_00073f8be_1      1.974702     2.825746  3.951524    2.843962  2.481364\n",
      "id_00073f8be_2      1.247643     0.962429  1.076436    1.152148  1.121656\n",
      "id_00073f8be_3      1.056678     0.855254  1.051009    1.182603  1.121098\n",
      "id_00073f8be_4      0.926530     0.905938  1.098576    1.254745  1.182959\n",
      "...                      ...          ...       ...         ...       ...\n",
      "id_ffda94f24_125    0.261841     0.437706  0.564426    0.655878  0.423200\n",
      "id_ffda94f24_126    0.240583     0.430785  0.723411    0.683263  0.609998\n",
      "id_ffda94f24_127    0.553731     0.118046  0.269278    0.278089  0.356205\n",
      "id_ffda94f24_128    0.220393     0.113388  0.209500    0.271384  0.160627\n",
      "id_ffda94f24_129    0.044604     0.095944  0.376354    0.314239  0.201165\n",
      "\n",
      "[457953 rows x 5 columns]\n"
     ]
    }
   ],
   "source": [
    "# print settings for pandas dataframes\n",
    "pd.set_option('display.max_colwidth', None)\n",
    "pd.set_option('display.max_columns', None)\n",
    "pd.set_option('expand_frame_repr', False)\n",
    "\n",
    "sampleSubmPath = dataFolder + \"sample_submission.csv\"\n",
    "submissionDF = pd.read_csv(sampleSubmPath, index_col='id_seqpos')\n",
    "\n",
    "with open(testPath, 'r') as testdata:\n",
    "    idx107 = 0\n",
    "    idx130 = 0\n",
    "    i = 0\n",
    "    for row in testdata:\n",
    "        rowDict = json.loads(row)\n",
    "        if rowDict['seq_length'] == 107:\n",
    "            for x in range(107):\n",
    "                submissionDF.iloc[i] = {'reactivity': test107Preds[idx107][x][0],\n",
    "                                        'deg_Mg_pH10': test107Preds[idx107][x][1],\n",
    "                                        'deg_pH10': test107Preds[idx107][x][2],\n",
    "                                        'deg_Mg_50C': test107Preds[idx107][x][3],\n",
    "                                        'deg_50C':test107Preds[idx107][x][4]}\n",
    "                i += 1\n",
    "            idx107 += 1\n",
    "        elif rowDict['seq_length'] == 130:\n",
    "            for x in range(130):\n",
    "                submissionDF.iloc[i] = {'reactivity': test130Preds[idx130][x][0],\n",
    "                                        'deg_Mg_pH10': test130Preds[idx130][x][1],\n",
    "                                        'deg_pH10': test130Preds[idx130][x][2],\n",
    "                                        'deg_Mg_50C': test130Preds[idx130][x][3],\n",
    "                                        'deg_50C':test130Preds[idx130][x][4]}\n",
    "                i += 1\n",
    "            idx130 += 1\n",
    "        \n",
    "print(submissionDF)"
   ]
  },
  {
   "cell_type": "code",
   "execution_count": null,
   "metadata": {
    "id": "ZkAy-XwjISkq"
   },
   "outputs": [],
   "source": [
    "submissionDF.to_csv(dataFolder+'ATT_LSTMSubmission.csv')"
   ]
  },
  {
   "cell_type": "markdown",
   "metadata": {
    "id": "Rg9RCGZQAOpf"
   },
   "source": [
    "![image.png](data:image/png;base64,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)"
   ]
  },
  {
   "cell_type": "markdown",
   "metadata": {
    "id": "7fj41caAOsfw"
   },
   "source": [
    "Even thought the model is better than CNN, it is still not very competitive. First, the model uses LSTM on the sequence. Then, use a Linear layer to predict the result. For the squence length of 107 public records, we also tried an attention layer to learn the influence between different time steps. \n",
    "\n",
    "In reality, it appears that adding the attention mechanism actually worsened the model output. We can determine that adding an attention mechanism to the LSTM model given this specific data does not improve the performance of the predictions in any way and seems to just introduce some noise to the data. One other drawback of the model is that the method cannot be used to predict the 130 nucleotide sequence as the attention mechanism weights cannot be translated to a longer sequence which would need a different size layer. \n",
    "\n"
   ]
  }
 ],
 "metadata": {
  "accelerator": "GPU",
  "colab": {
   "collapsed_sections": [],
   "machine_shape": "hm",
   "name": "CS7140_Final_Project_LSTM_att.ipynb",
   "provenance": []
  },
  "kernelspec": {
   "display_name": "Python 3",
   "language": "python",
   "name": "python3"
  },
  "language_info": {
   "codemirror_mode": {
    "name": "ipython",
    "version": 3
   },
   "file_extension": ".py",
   "mimetype": "text/x-python",
   "name": "python",
   "nbconvert_exporter": "python",
   "pygments_lexer": "ipython3",
   "version": "3.8.5"
  }
 },
 "nbformat": 4,
 "nbformat_minor": 4
}
