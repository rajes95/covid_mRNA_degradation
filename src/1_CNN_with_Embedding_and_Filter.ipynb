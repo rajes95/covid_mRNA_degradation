{
 "cells": [
  {
   "cell_type": "markdown",
   "metadata": {
    "id": "7Iz6wiDv08eo"
   },
   "source": [
    "CS7140\n",
    "\n",
    "Rajesh Sakhamuru\n",
    "\n",
    "Zhiyu Chen\n",
    "\n",
    "# CNN Model for mRNA Degredation Prediction using embedding layer and filtering noisy data"
   ]
  },
  {
   "cell_type": "code",
   "execution_count": null,
   "metadata": {
    "colab": {
     "base_uri": "https://localhost:8080/"
    },
    "executionInfo": {
     "elapsed": 431,
     "status": "ok",
     "timestamp": 1608018400208,
     "user": {
      "displayName": "Rajesh Sakhamuru",
      "photoUrl": "https://lh3.googleusercontent.com/a-/AOh14Gh6A85dxIl7G3jJ0zNixy-sfvjCHVs8npNMKKBU=s64",
      "userId": "07235525343904158916"
     },
     "user_tz": 480
    },
    "id": "9YKGLaHp-Fd2",
    "outputId": "770eaac4-6d43-4165-de5f-36cf25090b2e"
   },
   "outputs": [
    {
     "name": "stdout",
     "output_type": "stream",
     "text": [
      "Drive already mounted at /content/drive; to attempt to forcibly remount, call drive.mount(\"/content/drive\", force_remount=True).\n"
     ]
    }
   ],
   "source": [
    "from google.colab import drive\n",
    "drive.mount('/content/drive')"
   ]
  },
  {
   "cell_type": "code",
   "execution_count": null,
   "metadata": {
    "id": "wZDMz9ScxJuT"
   },
   "outputs": [],
   "source": [
    "%matplotlib inline\n",
    "import json\n",
    "import sys\n",
    "import pandas as pd\n",
    "import numpy as np\n",
    "from sklearn.preprocessing import LabelEncoder, OneHotEncoder\n",
    "import matplotlib.pyplot as plt\n",
    "\n",
    "import torch\n",
    "from torch import nn\n",
    "from torch.utils.data import Dataset, DataLoader\n",
    "device = torch.device(\"cuda\" if torch.cuda.is_available() else \"cpu\")"
   ]
  },
  {
   "cell_type": "code",
   "execution_count": null,
   "metadata": {
    "id": "akoV3E8KzqvP"
   },
   "outputs": [],
   "source": [
    "dataFolder = \"drive/MyDrive/Colab Notebooks/CS7140 Final Project/stanford-covid/\"\n",
    "testPath = dataFolder + \"test.json\"\n",
    "trainPath = dataFolder + \"train.json\""
   ]
  },
  {
   "cell_type": "code",
   "execution_count": null,
   "metadata": {
    "id": "b0yLk02C_MGb"
   },
   "outputs": [],
   "source": [
    "def oneHotEncode(rowDict):\r\n",
    "    \"\"\"\r\n",
    "    One-hot encode a single sample's sequence data\r\n",
    "    \"\"\"\r\n",
    "    categories = ['ACGU', '.()', 'BEHIMSX']\r\n",
    "\r\n",
    "    seq = rowDict['sequence']\r\n",
    "    oneHotSeq = np.zeros((len(seq),3))\r\n",
    "    for i, char in enumerate(seq):\r\n",
    "        oneHotSeq[i,0] = 1+categories[0].index(char)\r\n",
    "\r\n",
    "    struc = rowDict['structure']\r\n",
    "    for i, char in enumerate(struc):\r\n",
    "        oneHotSeq[i,1] = 5+categories[1].index(char)\r\n",
    "\r\n",
    "    loop = rowDict['predicted_loop_type']\r\n",
    "    for i, char in enumerate(loop):\r\n",
    "        oneHotSeq[i,2] = 9+categories[2].index(char)\r\n",
    "\r\n",
    "    return oneHotSeq"
   ]
  },
  {
   "cell_type": "code",
   "execution_count": null,
   "metadata": {
    "id": "ZNCx19IPBhzS"
   },
   "outputs": [],
   "source": [
    "def encode_timeSteps(idx, oneHotRow, numFeatures):\r\n",
    "    \"\"\"\r\n",
    "    Each timestep per one hot encoded row is encoded as just \r\n",
    "    the surrounding characters, and not the entire sequence, so that\r\n",
    "    the entire length of the sequence doesn't really matter for predictions\r\n",
    "    \"\"\"\r\n",
    "    halfNumFeats = (numFeatures-1)//2\r\n",
    "    if idx-halfNumFeats<0:\r\n",
    "        timeStepFeats = oneHotRow[:idx+halfNumFeats+1]\r\n",
    "        padding = np.array([[0,5,9]]*int(halfNumFeats-idx),dtype=int)\r\n",
    "        timeStepFeats = np.vstack([timeStepFeats,padding])\r\n",
    "\r\n",
    "    elif idx+halfNumFeats+1>len(oneHotRow):\r\n",
    "        timeStepFeats=oneHotRow[idx-halfNumFeats:]\r\n",
    "        padding = np.array([[0,5,9]]*(int(halfNumFeats-(len(oneHotRow)-idx))+1),dtype=int)\r\n",
    "        timeStepFeats = np.vstack([timeStepFeats,padding])\r\n",
    "\r\n",
    "    else:\r\n",
    "        timeStepFeats = oneHotRow[idx-halfNumFeats:idx+halfNumFeats+1]\r\n",
    "    \r\n",
    "    return timeStepFeats"
   ]
  },
  {
   "cell_type": "code",
   "execution_count": null,
   "metadata": {
    "id": "sj4RoD9j9Y6m"
   },
   "outputs": [],
   "source": [
    "class prepDataset(Dataset):\n",
    "    \"\"\"\n",
    "    Load each one-hot timestep as a separate 'image' tensor, for training CNN\n",
    "    Ignores Noisy data which can tarnish results\n",
    "    \"\"\"\n",
    "    def __init__(self, path, testFlag=False):\n",
    "        self.path = path\n",
    "        self.testFlag = testFlag\n",
    "        self.features = []\n",
    "        self.targets = []\n",
    "        self.ids = []\n",
    "        self.loadData()\n",
    "    \n",
    "    def __len__(self):\n",
    "        return len(self.features)\n",
    "    \n",
    "    def __getitem__(self, idx):\n",
    "        if self.testFlag:\n",
    "            return self.features[idx].astype(int), self.ids[idx]\n",
    "        else:\n",
    "            return self.features[idx].astype(int), self.targets[idx], self.ids[idx]\n",
    "\n",
    "    def loadData(self):\n",
    "        with open(self.path, 'r') as data:\n",
    "            for row in data:\n",
    "                rowDict = json.loads(row)\n",
    "                # Ignore Noisy Data\n",
    "                if not self.testFlag:\n",
    "                  if rowDict['SN_filter']==0:\n",
    "                    continue\n",
    "                oneHotRow = oneHotEncode(rowDict)\n",
    "                # Encode each time-step as an 'image' for CNN\n",
    "                for i in range(rowDict['seq_scored']):\n",
    "                    timeStepFeats = encode_timeSteps(i, oneHotRow, 21)\n",
    "                    self.features.append(timeStepFeats)\n",
    "                    self.ids.append('%s_%d' % (rowDict['id'], i))\n",
    "                    \n",
    "                if not self.testFlag:\n",
    "                    targets = np.stack([rowDict['reactivity'], rowDict['deg_Mg_pH10'], rowDict['deg_Mg_50C']], axis=1)\n",
    "                    self.targets.extend([targets[i] for i in range(rowDict['seq_scored'])])           "
   ]
  },
  {
   "cell_type": "code",
   "execution_count": null,
   "metadata": {
    "id": "rgxC4kOr8JyL"
   },
   "outputs": [],
   "source": [
    "class reactivityModel(nn.Module):\n",
    "    \"\"\"\n",
    "    CNN model with convolution, pooling, dropout and dense layers\n",
    "    Now uses embedding instead of 1-hot encoding\n",
    "    \"\"\"\n",
    "    def __init__(self,embed_dim=50):\n",
    "        super(reactivityModel, self).__init__()\n",
    "        self.embedding=nn.Embedding(17, embed_dim)\n",
    "        self.convBlock = nn.Sequential(\n",
    "            nn.Conv1d(in_channels=embed_dim*3,out_channels=32,kernel_size=1,stride=1),\n",
    "            nn.BatchNorm1d(num_features=32),\n",
    "            nn.PReLU(),\n",
    "            nn.Conv1d(in_channels=32,out_channels=64,kernel_size=5,stride=1),\n",
    "            nn.BatchNorm1d(num_features=64),\n",
    "            nn.PReLU(),\n",
    "            nn.Conv1d(in_channels=64,out_channels=128,kernel_size=1,stride=1),\n",
    "            nn.PReLU(),\n",
    "            nn.MaxPool1d(3, stride=2),\n",
    "            nn.Dropout(0.3),\n",
    "            nn.Flatten(),\n",
    "            nn.Linear(1024, 64),\n",
    "            nn.PReLU(),\n",
    "            nn.BatchNorm1d(num_features=64),\n",
    "            nn.Dropout(0.4),\n",
    "            nn.Linear(64, 64),\n",
    "            nn.PReLU(),\n",
    "            nn.BatchNorm1d(num_features=64),\n",
    "            nn.Dropout(0.5),\n",
    "            nn.Linear(64, 3)\n",
    "        )\n",
    "\n",
    "    def forward(self, X):\n",
    "      embedding_layer=self.embedding(X)\n",
    "      embedding_reshape= torch.reshape(embedding_layer,(-1, embedding_layer.shape[1], embedding_layer.shape[2]*embedding_layer.shape[3])).permute(0,2,1)\n",
    "      output = self.convBlock(embedding_reshape)\n",
    "      return output"
   ]
  },
  {
   "cell_type": "code",
   "execution_count": null,
   "metadata": {
    "id": "h9o3ti1lSA_k"
   },
   "outputs": [],
   "source": [
    "def trainModel(trainDataLoader, epochs = 25, lr = 0.001, weightsPath = 'drive/MyDrive/Colab Notebooks/CS7140Models/Emb_Clean_covidCNNModel.pth'):\n",
    "    \"\"\"\n",
    "    Trains the CNN model for specified number of epochs at the specified learning rate.\n",
    "    \"\"\"\n",
    "    model = reactivityModel().cuda()\n",
    "    optimizer = torch.optim.Adam(model.parameters(), lr=lr)\n",
    "    lossFunc = nn.MSELoss()\n",
    "    loss_list=[]\n",
    "    for epoch in range(epochs):\n",
    "        lossList = []\n",
    "        model.train()\n",
    "        for features, targets, ids in trainDataLoader:\n",
    "            features = torch.tensor(features).to(torch.int64).to(device)\n",
    "            targets = torch.tensor(targets).to(torch.float).to(device)\n",
    "            predictions = model(features)\n",
    "            loss = lossFunc(predictions, targets)\n",
    "\n",
    "            for p in model.parameters():\n",
    "                p.grad = None\n",
    "            \n",
    "            loss.backward()\n",
    "            optimizer.step()\n",
    "            lossList.append(loss.detach().cpu().numpy())\n",
    "        \n",
    "        avg_loss = float(np.mean(lossList))\n",
    "        loss_list.append(avg_loss)\n",
    "    plt.plot(loss_list)\n",
    "    plt.xlabel('epochs')\n",
    "    plt.ylabel('loss')\n",
    "    torch.save(model.state_dict(), weightsPath)"
   ]
  },
  {
   "cell_type": "code",
   "execution_count": null,
   "metadata": {
    "id": "ULMTwK448E1g"
   },
   "outputs": [],
   "source": [
    "trainDataset = prepDataset(trainPath,testFlag=False)\n",
    "trainDataLoader = DataLoader(trainDataset, batch_size=256, shuffle=True, num_workers=4,pin_memory=True)"
   ]
  },
  {
   "cell_type": "code",
   "execution_count": null,
   "metadata": {
    "colab": {
     "base_uri": "https://localhost:8080/"
    },
    "executionInfo": {
     "elapsed": 5434,
     "status": "ok",
     "timestamp": 1608018405267,
     "user": {
      "displayName": "Rajesh Sakhamuru",
      "photoUrl": "https://lh3.googleusercontent.com/a-/AOh14Gh6A85dxIl7G3jJ0zNixy-sfvjCHVs8npNMKKBU=s64",
      "userId": "07235525343904158916"
     },
     "user_tz": 480
    },
    "id": "Ebwua7yEHq_A",
    "outputId": "8d8e6534-bd56-414f-c08d-044b4ca1cd00"
   },
   "outputs": [
    {
     "name": "stdout",
     "output_type": "stream",
     "text": [
      "torch.Size([256, 21, 3])\n",
      "torch.Size([256, 3])\n",
      "256\n"
     ]
    }
   ],
   "source": [
    "for feature,labels,ids in trainDataLoader:\r\n",
    "  print(feature.shape)\r\n",
    "  print(labels.shape)\r\n",
    "  print(len(ids))\r\n",
    "  break"
   ]
  },
  {
   "cell_type": "code",
   "execution_count": null,
   "metadata": {
    "colab": {
     "base_uri": "https://localhost:8080/",
     "height": 279
    },
    "executionInfo": {
     "elapsed": 295,
     "status": "ok",
     "timestamp": 1608018522918,
     "user": {
      "displayName": "Rajesh Sakhamuru",
      "photoUrl": "https://lh3.googleusercontent.com/a-/AOh14Gh6A85dxIl7G3jJ0zNixy-sfvjCHVs8npNMKKBU=s64",
      "userId": "07235525343904158916"
     },
     "user_tz": 480
    },
    "id": "iVAYPQ8S7_8g",
    "outputId": "4912c858-6824-4417-adaf-30289b213727"
   },
   "outputs": [
    {
     "data": {
      "image/png": "[encoded data removed]",
      "text/plain": [
       "<Figure size 432x288 with 1 Axes>"
      ]
     },
     "metadata": {
      "needs_background": "light",
      "tags": []
     },
     "output_type": "display_data"
    }
   ],
   "source": [
    "weightsPath = 'drive/MyDrive/Colab Notebooks/CS7140 Final Project/CS7140Models/Emb_Clean_covidCNNModel.pth'\n",
    "trainModel(trainDataLoader, epochs=25, lr=0.001, weightsPath=weightsPath)"
   ]
  },
  {
   "cell_type": "code",
   "execution_count": null,
   "metadata": {
    "id": "L10OyAoe1cdD"
   },
   "outputs": [],
   "source": [
    "testDataset = prepDataset(testPath, testFlag=True)\n",
    "testDataLoader = DataLoader(testDataset, batch_size=256, num_workers=4, drop_last=False, pin_memory=True)"
   ]
  },
  {
   "cell_type": "code",
   "execution_count": null,
   "metadata": {
    "colab": {
     "base_uri": "https://localhost:8080/",
     "height": 235
    },
    "executionInfo": {
     "elapsed": 129261,
     "status": "ok",
     "timestamp": 1608018529118,
     "user": {
      "displayName": "Rajesh Sakhamuru",
      "photoUrl": "https://lh3.googleusercontent.com/a-/AOh14Gh6A85dxIl7G3jJ0zNixy-sfvjCHVs8npNMKKBU=s64",
      "userId": "07235525343904158916"
     },
     "user_tz": 480
    },
    "id": "gG-fOxvL17H_",
    "outputId": "41676d88-5be8-48f7-e9e0-d03aeb7f39c1"
   },
   "outputs": [
    {
     "data": {
      "text/html": [
       "<div>\n",
       "<style scoped>\n",
       "    .dataframe tbody tr th:only-of-type {\n",
       "        vertical-align: middle;\n",
       "    }\n",
       "\n",
       "    .dataframe tbody tr th {\n",
       "        vertical-align: top;\n",
       "    }\n",
       "\n",
       "    .dataframe thead th {\n",
       "        text-align: right;\n",
       "    }\n",
       "</style>\n",
       "<table border=\"1\" class=\"dataframe\">\n",
       "  <thead>\n",
       "    <tr style=\"text-align: right;\">\n",
       "      <th></th>\n",
       "      <th>reactivity</th>\n",
       "      <th>deg_Mg_pH10</th>\n",
       "      <th>deg_Mg_50C</th>\n",
       "    </tr>\n",
       "    <tr>\n",
       "      <th>id_seqpos</th>\n",
       "      <th></th>\n",
       "      <th></th>\n",
       "      <th></th>\n",
       "    </tr>\n",
       "  </thead>\n",
       "  <tbody>\n",
       "    <tr>\n",
       "      <th>id_00073f8be_0</th>\n",
       "      <td>0.751224</td>\n",
       "      <td>0.683348</td>\n",
       "      <td>0.543136</td>\n",
       "    </tr>\n",
       "    <tr>\n",
       "      <th>id_00073f8be_1</th>\n",
       "      <td>1.987167</td>\n",
       "      <td>2.798665</td>\n",
       "      <td>2.681364</td>\n",
       "    </tr>\n",
       "    <tr>\n",
       "      <th>id_00073f8be_2</th>\n",
       "      <td>1.304582</td>\n",
       "      <td>0.756657</td>\n",
       "      <td>0.910535</td>\n",
       "    </tr>\n",
       "    <tr>\n",
       "      <th>id_00073f8be_3</th>\n",
       "      <td>1.158936</td>\n",
       "      <td>0.901483</td>\n",
       "      <td>1.100835</td>\n",
       "    </tr>\n",
       "    <tr>\n",
       "      <th>id_00073f8be_4</th>\n",
       "      <td>0.936200</td>\n",
       "      <td>1.101207</td>\n",
       "      <td>1.202086</td>\n",
       "    </tr>\n",
       "  </tbody>\n",
       "</table>\n",
       "</div>"
      ],
      "text/plain": [
       "                reactivity  deg_Mg_pH10  deg_Mg_50C\n",
       "id_seqpos                                          \n",
       "id_00073f8be_0    0.751224     0.683348    0.543136\n",
       "id_00073f8be_1    1.987167     2.798665    2.681364\n",
       "id_00073f8be_2    1.304582     0.756657    0.910535\n",
       "id_00073f8be_3    1.158936     0.901483    1.100835\n",
       "id_00073f8be_4    0.936200     1.101207    1.202086"
      ]
     },
     "execution_count": 13,
     "metadata": {
      "tags": []
     },
     "output_type": "execute_result"
    }
   ],
   "source": [
    "sampleSubmPath = dataFolder + \"sample_submission.csv\"\n",
    "submissionDF = pd.read_csv(sampleSubmPath, index_col='id_seqpos')\n",
    "\n",
    "model = reactivityModel().cuda()\n",
    "model.load_state_dict(torch.load(weightsPath))\n",
    "model.eval()\n",
    "for testFeats, ids in testDataLoader:\n",
    "    testFeats = testFeats.cuda()\n",
    "    preds = model(testFeats)\n",
    "    submissionDF.loc[ids,['reactivity', 'deg_Mg_pH10', 'deg_Mg_50C']] = preds.detach().cpu().numpy()\n",
    "submissionDF[['reactivity', 'deg_Mg_pH10', 'deg_Mg_50C']].head()"
   ]
  },
  {
   "cell_type": "code",
   "execution_count": null,
   "metadata": {
    "id": "ZkAy-XwjISkq"
   },
   "outputs": [],
   "source": [
    "submissionDF.to_csv(dataFolder+'Emb_Clean_CNNSubmission.csv')"
   ]
  },
  {
   "cell_type": "markdown",
   "metadata": {
    "id": "UG4-3rJUUitZ"
   },
   "source": [
    "![image.png](data:image/png;base64,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)"
   ]
  },
  {
   "cell_type": "markdown",
   "metadata": {
    "id": "7fj41caAOsfw"
   },
   "source": [
    "This model was a very slight/insignificant improvement over the original CNN model which was trained.\n",
    "\n",
    "Embedding did not seem to make any difference here compared to one-hot encoding. Using denoised data also did not seem to make much of a difference, which could be due to the fact that this model is already not taking into account the relationship of the base with the entire mRNA sequence.\n",
    "\n",
    "CNN is not a very good method for predicting sequence data, so the results were not competitive, but did manage to do better than a reasonable number of official submissions made during the actual competition.\n",
    "\n",
    "The scores are based on MCRMSE (mean columnwise root mean squared error). The score which matters is the 'Public Score' which can be compared against other Kaggle user submissions from the actual competition."
   ]
  }
 ],
 "metadata": {
  "accelerator": "GPU",
  "colab": {
   "collapsed_sections": [],
   "machine_shape": "hm",
   "name": "CS7140_Final_Project_CNN_EMB.ipynb",
   "provenance": []
  },
  "kernelspec": {
   "display_name": "Python 3",
   "language": "python",
   "name": "python3"
  },
  "language_info": {
   "codemirror_mode": {
    "name": "ipython",
    "version": 3
   },
   "file_extension": ".py",
   "mimetype": "text/x-python",
   "name": "python",
   "nbconvert_exporter": "python",
   "pygments_lexer": "ipython3",
   "version": "3.8.5"
  }
 },
 "nbformat": 4,
 "nbformat_minor": 4
}
