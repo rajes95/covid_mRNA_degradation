{
 "cells": [
  {
   "cell_type": "markdown",
   "metadata": {
    "id": "ujWOhk0s1Oj6"
   },
   "source": [
    "CS7140\n",
    "\n",
    "Rajesh Sakhamuru\n",
    "\n",
    "Zhiyu Chen\n",
    "\n",
    "# LSTM Model for mRNA Degredation Prediction"
   ]
  },
  {
   "cell_type": "code",
   "execution_count": null,
   "metadata": {
    "colab": {
     "base_uri": "https://localhost:8080/"
    },
    "executionInfo": {
     "elapsed": 17581,
     "status": "ok",
     "timestamp": 1608036072371,
     "user": {
      "displayName": "Rajesh Sakhamuru",
      "photoUrl": "https://lh3.googleusercontent.com/a-/AOh14GghvhYjI-3U4ixKuEvU4yADO_DCTjd0FEKFTi_glQ=s64",
      "userId": "15561048639431090619"
     },
     "user_tz": 480
    },
    "id": "uUsQgt4RA87F",
    "outputId": "9343b0ce-38f0-4de3-b50f-adbc8b47cc31"
   },
   "outputs": [
    {
     "name": "stdout",
     "output_type": "stream",
     "text": [
      "Mounted at /content/drive\n"
     ]
    }
   ],
   "source": [
    "from google.colab import drive\n",
    "drive.mount('/content/drive')"
   ]
  },
  {
   "cell_type": "code",
   "execution_count": null,
   "metadata": {
    "id": "wZDMz9ScxJuT"
   },
   "outputs": [],
   "source": [
    "import json\n",
    "import sys\n",
    "import pandas as pd\n",
    "import numpy as np\n",
    "import matplotlib.pyplot as plt\n",
    "\n",
    "from sklearn.preprocessing import LabelEncoder, OneHotEncoder\n",
    "from sklearn.model_selection import train_test_split, KFold\n",
    "\n",
    "import torch\n",
    "from torch import nn\n",
    "from torch.utils.data import DataLoader, TensorDataset\n",
    "device = torch.device(\"cuda\" if torch.cuda.is_available() else \"cpu\")"
   ]
  },
  {
   "cell_type": "code",
   "execution_count": null,
   "metadata": {
    "id": "s6Mo8QeKCwWD"
   },
   "outputs": [],
   "source": [
    "def oneHotEncode(rowDict):\n",
    "    \"\"\"\n",
    "    One-hot encode a single sample's sequence data\n",
    "    \"\"\"\n",
    "    categories = ['ACGU', '.()', 'BEHIMSX']\n",
    "\n",
    "    seq = rowDict['sequence']\n",
    "    oneHotSeq = np.zeros((len(seq),len(categories[0])))\n",
    "    for i, char in enumerate(seq):\n",
    "        oneHotSeq[i, categories[0].index(char)] = 1\n",
    "\n",
    "    struc = rowDict['structure']\n",
    "    oneHotStruc = np.zeros((len(struc),len(categories[1])))\n",
    "    for i, char in enumerate(struc):\n",
    "        oneHotStruc[i, categories[1].index(char)] = 1\n",
    "\n",
    "    loop = rowDict['predicted_loop_type']\n",
    "    oneHotLoop = np.zeros((len(loop),len(categories[2])))\n",
    "    for i, char in enumerate(loop):\n",
    "        oneHotLoop[i, categories[2].index(char)] = 1\n",
    "\n",
    "    return np.hstack([oneHotSeq, oneHotStruc, oneHotLoop])"
   ]
  },
  {
   "cell_type": "code",
   "execution_count": null,
   "metadata": {
    "id": "PQLFmKS0GNfg"
   },
   "outputs": [],
   "source": [
    "def loadTrainData(filePath):\n",
    "    \"\"\"\n",
    "    Loads training and target feature data from the test.json sequence data.\n",
    "    One-hot encodes the data in the process.\n",
    "    \"\"\"\n",
    "    oneHotTrain = None\n",
    "    targetTrain = None\n",
    "    with open(filePath, 'r') as data:\n",
    "        for row in data:\n",
    "            rowDict = json.loads(row)\n",
    "            # Removes noisy training samples where SN_filter == 0 (Signal/Noise filter)\n",
    "            if rowDict['SN_filter'] != 1:\n",
    "                continue\n",
    "            oneHotRow = oneHotEncode(rowDict)\n",
    "            targets = np.stack([rowDict['reactivity'], rowDict['deg_Mg_pH10'],rowDict['deg_pH10'], rowDict['deg_Mg_50C'], rowDict['deg_50C']], axis=1)\n",
    "\n",
    "            if oneHotTrain is None:\n",
    "                oneHotTrain = np.array([oneHotRow])\n",
    "                targetTrain = np.array([targets])\n",
    "                continue\n",
    "\n",
    "            oneHotTrain = np.append(oneHotTrain, [oneHotRow], axis=0)\n",
    "            targetTrain = np.append(targetTrain, [targets], axis=0)\n",
    "\n",
    "    return torch.tensor(oneHotTrain).to(torch.int64).to(device), torch.tensor(targetTrain).to(torch.float).to(device)"
   ]
  },
  {
   "cell_type": "code",
   "execution_count": null,
   "metadata": {
    "id": "ATMcC_DrBjDE"
   },
   "outputs": [],
   "source": [
    "def loadTestData(filePath):\n",
    "    \"\"\"\n",
    "    Loads the 107 length and 130 length sequence data for seperate competition testing  \n",
    "    One-hot encodes the data in the process.\n",
    "    We do not have target values for this data\n",
    "    \"\"\"\n",
    "    oneHotTest_107 = None\n",
    "    oneHotTest_130 = None\n",
    "\n",
    "    with open(filePath, 'r') as data:\n",
    "        for row in data:\n",
    "            rowDict = json.loads(row)\n",
    "            oneHotRow = oneHotEncode(rowDict)\n",
    "\n",
    "            if rowDict['seq_length'] == 107 and oneHotTest_107 is None:\n",
    "                oneHotTest_107 = np.array([oneHotRow])\n",
    "                continue\n",
    "            elif rowDict['seq_length'] == 130 and oneHotTest_130 is None:\n",
    "                oneHotTest_130 = np.array([oneHotRow])\n",
    "                continue\n",
    "\n",
    "            if rowDict['seq_length'] == 107:\n",
    "                oneHotTest_107 = np.append(oneHotTest_107, [oneHotRow], axis=0)\n",
    "            else:\n",
    "                oneHotTest_130 = np.append(oneHotTest_130, [oneHotRow], axis=0)\n",
    "\n",
    "    oneHotTest_107 = torch.tensor(oneHotTest_107).to(torch.int64).to(device)\n",
    "    oneHotTest_130 = torch.tensor(oneHotTest_130).to(torch.int64).to(device)\n",
    "\n",
    "    return oneHotTest_107, oneHotTest_130"
   ]
  },
  {
   "cell_type": "code",
   "execution_count": null,
   "metadata": {
    "id": "IzPuIRytTlmo"
   },
   "outputs": [],
   "source": [
    "class LSTMBiDirecModel(nn.Module):\n",
    "    \"\"\"\n",
    "    Bi-directional LSTM model which takes 14-features 1-hot encoded at each timestep\n",
    "    \"\"\"\n",
    "    def __init__(self, seqLen=107, predLen=68, hidLayers=3, embedDim=100, hidDim=128):\n",
    "        super(LSTMBiDirecModel, self).__init__()\n",
    "        self.predLen=predLen\n",
    "        self.embedding=nn.Embedding(14, embedDim)\n",
    "        self.lstmLayers = nn.LSTM(input_size=embedDim*14,\n",
    "                                  hidden_size=hidDim,\n",
    "                                  num_layers=hidLayers,\n",
    "                                  dropout=0.5,\n",
    "                                  bidirectional=True,\n",
    "                                  batch_first=True)\n",
    "        self.linear = nn.Linear(hidDim*2, 5)\n",
    "\n",
    "    def forward(self,X):\n",
    "        embedLayer = self.embedding(X)\n",
    "        reshapedEmbedding = torch.reshape(embedLayer,(-1, embedLayer.shape[1], embedLayer.shape[2]*embedLayer.shape[3]))\n",
    "        output, _ = self.lstmLayers(reshapedEmbedding)\n",
    "        \n",
    "        # Only make predictions for verifiable target values when training\n",
    "        hiddenVals = output[:,:self.predLen,:]\n",
    "        return self.linear(hiddenVals)"
   ]
  },
  {
   "cell_type": "code",
   "execution_count": null,
   "metadata": {
    "id": "OUoPCNpNqjYn"
   },
   "outputs": [],
   "source": [
    "def calcLoss(X, Y, model, optimizer=None, isTrain=True):\n",
    "    \"\"\"\n",
    "    Calculate and backpropogate the loss based on the MSE loss function\n",
    "    \"\"\"\n",
    "    model.train(isTrain)\n",
    "    mseLoss = nn.MSELoss()\n",
    "    predictions = model(X)\n",
    "    loss = mseLoss(predictions, Y)\n",
    "    if isTrain:\n",
    "        optimizer.zero_grad()\n",
    "        loss.backward()\n",
    "        optimizer.step()\n",
    "    return loss.item()"
   ]
  },
  {
   "cell_type": "code",
   "execution_count": null,
   "metadata": {
    "id": "xGDX090t_tD_"
   },
   "outputs": [],
   "source": [
    "def trainTestLSTMModel(oneHotTrain, targetTrain, test107DataLoader, test130DataLoader, lr=0.001, epochs=100, weightsPath='drive/MyDrive/Colab Notebooks/CS7140 Final Project/CS7140Models/covidLSTMModel.pth'):\n",
    "    \"\"\"\n",
    "    Run 4-fold cross validation on the dataset to train it, then make a weighted average of the predictions and return the \n",
    "    predicitons and model history. Also plots training vs validation loss per epoch.\n",
    "    \"\"\"\n",
    "    histories=[]\n",
    "    test107Preds = np.zeros((oneHotTest_107.shape[0], 107, 5))\n",
    "    test130Preds = np.zeros((oneHotTest_130.shape[0], 130, 5))\n",
    "\n",
    "    # 4-fold validation and take the average predictions of the 4 folds for final submission\n",
    "    kfold=KFold(n_splits=4, shuffle=True, random_state=42)\n",
    "    for foldNum, (trainIdx, valIdx) in enumerate(kfold.split(oneHotTrain)):\n",
    "        trainDataLoader = DataLoader(TensorDataset(oneHotTrain[trainIdx], targetTrain[trainIdx]), shuffle=True, batch_size=128)\n",
    "        valDataLoader = DataLoader(TensorDataset(oneHotTrain[valIdx], targetTrain[valIdx]), shuffle=False, batch_size=128)\n",
    "        \n",
    "        lstmModel = LSTMBiDirecModel().to(device)\n",
    "        optimizer = torch.optim.Adam(lstmModel.parameters(), lr=lr)\n",
    "        \n",
    "        trainLossList = []\n",
    "        valLossList = []\n",
    "\n",
    "        for epoch in range(epochs):\n",
    "            trainLoss = []\n",
    "            valLoss = []\n",
    "            for X, Y in trainDataLoader:\n",
    "                trainLoss.append(calcLoss(X,Y,lstmModel, optimizer=optimizer, isTrain=True))\n",
    "            for X, Y in valDataLoader:\n",
    "                valLoss.append(calcLoss(X,Y,lstmModel, optimizer=optimizer, isTrain=False))\n",
    "        \n",
    "            trainLossList.append(sum(trainLoss)/len(trainLoss))\n",
    "            valLossList.append(sum(valLoss)/len(valLoss))\n",
    "    \n",
    "        torch.save(lstmModel.state_dict(), weightsPath)\n",
    "        lstmWeightsState = lstmModel.state_dict()\n",
    "        del lstmModel\n",
    "\n",
    "        histories.append({'trainLoss':trainLossList, 'valLoss': valLossList})\n",
    "        \n",
    "        if foldNum == 0:\n",
    "            plt.plot(trainLossList,'b-',label='train')\n",
    "            plt.plot(valLossList,'g-',label='val')\n",
    "        else:\n",
    "            plt.plot(trainLossList,'b-')\n",
    "            plt.plot(valLossList,'g-')\n",
    "        \n",
    "        # load weights into model for length 107 sequences and make predictions\n",
    "        lstmTest107Model = LSTMBiDirecModel(seqLen=107,predLen=107).to(device)\n",
    "        lstmTest107Model.load_state_dict(lstmWeightsState)\n",
    "        # turn off dropout during evaluation\n",
    "        lstmTest107Model.eval()\n",
    "        predictions107 = np.ndarray((0,107,5))\n",
    "        for testData in test107DataLoader:\n",
    "            testData = testData[0]\n",
    "            pred107 = lstmTest107Model(testData)\n",
    "            pred107 = pred107.cpu().detach().numpy()\n",
    "            predictions107 = np.concatenate([predictions107, pred107], axis=0)\n",
    "        test107Preds += predictions107/4\n",
    "        \n",
    "        # load weights into model for length 130 sequences and make predictions\n",
    "        lstmTest130Model = LSTMBiDirecModel(seqLen=130,predLen=130).to(device)\n",
    "        lstmTest130Model.load_state_dict(lstmWeightsState)\n",
    "        # turn off dropout during evaluation\n",
    "        lstmTest130Model.eval()\n",
    "        predictions130 = np.ndarray((0,130,5))\n",
    "        for testData in test130DataLoader:\n",
    "            testData = testData[0]\n",
    "            pred130 = lstmTest130Model(testData)\n",
    "            pred130 = pred130.cpu().detach().numpy()\n",
    "            predictions130 = np.concatenate([predictions130, pred130], axis=0)\n",
    "        test130Preds += predictions130/4\n",
    "\n",
    "        print(\"Fold:\",foldNum,\", ValidationLoss:\",valLossList[-1])\n",
    "\n",
    "        del lstmTest107Model, lstmTest130Model    \n",
    "    \n",
    "    plt.legend(loc='best')\n",
    "    plt.show()\n",
    "\n",
    "    return test107Preds, test130Preds, histories"
   ]
  },
  {
   "cell_type": "code",
   "execution_count": null,
   "metadata": {
    "id": "akoV3E8KzqvP"
   },
   "outputs": [],
   "source": [
    "dataFolder = \"drive/MyDrive/Colab Notebooks/CS7140 Final Project/stanford-covid/\"\n",
    "testPath = dataFolder + \"test.json\"\n",
    "trainPath = dataFolder + \"train.json\""
   ]
  },
  {
   "cell_type": "code",
   "execution_count": null,
   "metadata": {
    "id": "6rLfRRdJpklx"
   },
   "outputs": [],
   "source": [
    "oneHotTrain, targetTrain = loadTrainData(trainPath)"
   ]
  },
  {
   "cell_type": "code",
   "execution_count": null,
   "metadata": {
    "colab": {
     "base_uri": "https://localhost:8080/"
    },
    "executionInfo": {
     "elapsed": 37104,
     "status": "ok",
     "timestamp": 1608036091989,
     "user": {
      "displayName": "Rajesh Sakhamuru",
      "photoUrl": "https://lh3.googleusercontent.com/a-/AOh14GghvhYjI-3U4ixKuEvU4yADO_DCTjd0FEKFTi_glQ=s64",
      "userId": "15561048639431090619"
     },
     "user_tz": 480
    },
    "id": "RGWzm4OSKEOh",
    "outputId": "aa77a550-13ad-4cba-fbef-b0a7820c7f45"
   },
   "outputs": [
    {
     "name": "stdout",
     "output_type": "stream",
     "text": [
      "Input Shape:  torch.Size([1589, 107, 14])\n",
      "Output Shape: torch.Size([1589, 68, 5])\n"
     ]
    }
   ],
   "source": [
    "# (samples, timesteps, features)\n",
    "print('Input Shape: ', oneHotTrain.shape)\n",
    "# Only the first 68 steps in the nucleotide sequence are scored in the training data\n",
    "print('Output Shape:', targetTrain.shape)"
   ]
  },
  {
   "cell_type": "code",
   "execution_count": null,
   "metadata": {
    "id": "Gsh8dticHCI8"
   },
   "outputs": [],
   "source": [
    "oneHotTest_107, oneHotTest_130 = loadTestData(testPath)\n",
    "\n",
    "test107DataLoader = DataLoader(TensorDataset(oneHotTest_107), shuffle=False, batch_size=128)\n",
    "test130DataLoader = DataLoader(TensorDataset(oneHotTest_130), shuffle=False, batch_size=128)"
   ]
  },
  {
   "cell_type": "markdown",
   "metadata": {
    "id": "3x_E5SDfgDf1"
   },
   "source": [
    "4-fold cross validation for training LSTM model followed by validation"
   ]
  },
  {
   "cell_type": "code",
   "execution_count": null,
   "metadata": {
    "colab": {
     "base_uri": "https://localhost:8080/"
    },
    "executionInfo": {
     "elapsed": 653179,
     "status": "ok",
     "timestamp": 1608036708073,
     "user": {
      "displayName": "Rajesh Sakhamuru",
      "photoUrl": "https://lh3.googleusercontent.com/a-/AOh14GghvhYjI-3U4ixKuEvU4yADO_DCTjd0FEKFTi_glQ=s64",
      "userId": "15561048639431090619"
     },
     "user_tz": 480
    },
    "id": "3MqJ9gTbFLYx",
    "outputId": "0b9ea751-2200-422d-b18e-e37e41dee16b"
   },
   "outputs": [
    {
     "name": "stdout",
     "output_type": "stream",
     "text": [
      "Fold: 0 , ValidationLoss: 0.05738950241357088\n",
      "Fold: 1 , ValidationLoss: 0.05703344661742449\n",
      "Fold: 2 , ValidationLoss: 0.05575762316584587\n",
      "Fold: 3 , ValidationLoss: 0.05715477094054222\n"
     ]
    },
    {
     "data": {
      "image/png": "[encoded data removed]",
      "text/plain": [
       "<Figure size 432x288 with 1 Axes>"
      ]
     },
     "metadata": {
      "needs_background": "light",
      "tags": []
     },
     "output_type": "display_data"
    }
   ],
   "source": [
    "test107Preds, test130Preds, histories = trainTestLSTMModel(oneHotTrain, targetTrain, test107DataLoader, test130DataLoader, lr=0.001, epochs=150)"
   ]
  },
  {
   "cell_type": "markdown",
   "metadata": {
    "id": "ZbWdXnAP576L"
   },
   "source": [
    "####Load predictions to a single dataframe and save to file:"
   ]
  },
  {
   "cell_type": "code",
   "execution_count": null,
   "metadata": {
    "colab": {
     "base_uri": "https://localhost:8080/"
    },
    "executionInfo": {
     "elapsed": 804932,
     "status": "ok",
     "timestamp": 1608036859834,
     "user": {
      "displayName": "Rajesh Sakhamuru",
      "photoUrl": "https://lh3.googleusercontent.com/a-/AOh14GghvhYjI-3U4ixKuEvU4yADO_DCTjd0FEKFTi_glQ=s64",
      "userId": "15561048639431090619"
     },
     "user_tz": 480
    },
    "id": "zmijAdkDE4pt",
    "outputId": "754d2d10-0cfa-44f0-abce-bd7fa6f7add2"
   },
   "outputs": [
    {
     "name": "stdout",
     "output_type": "stream",
     "text": [
      "                  reactivity  deg_Mg_pH10  deg_pH10  deg_Mg_50C   deg_50C\n",
      "id_seqpos                                                                \n",
      "id_00073f8be_0      0.821078     0.728492  2.003676    0.578384  0.705543\n",
      "id_00073f8be_1      2.798777     3.417343  4.556281    3.482692  2.908738\n",
      "id_00073f8be_2      1.479272     0.463335  0.599484    0.537763  0.619859\n",
      "id_00073f8be_3      1.394358     1.272250  1.375535    1.804477  1.557674\n",
      "id_00073f8be_4      0.911653     0.589520  0.697830    0.860919  0.888720\n",
      "...                      ...          ...       ...         ...       ...\n",
      "id_ffda94f24_125    0.275490     0.494338  0.481369    0.637903  0.376113\n",
      "id_ffda94f24_126    0.258295     0.442905  0.665872    0.630435  0.600253\n",
      "id_ffda94f24_127    0.522550     0.151904  0.179435    0.281420  0.387942\n",
      "id_ffda94f24_128    0.239959     0.204538  0.109346    0.314485  0.199139\n",
      "id_ffda94f24_129    0.056335     0.165746  0.170848    0.299136  0.213675\n",
      "\n",
      "[457953 rows x 5 columns]\n"
     ]
    }
   ],
   "source": [
    "# print settings for pandas dataframes\n",
    "pd.set_option('display.max_colwidth', None)\n",
    "pd.set_option('display.max_columns', None)\n",
    "pd.set_option('expand_frame_repr', False)\n",
    "\n",
    "sampleSubmPath = dataFolder + \"sample_submission.csv\"\n",
    "submissionDF = pd.read_csv(sampleSubmPath, index_col='id_seqpos')\n",
    "\n",
    "with open(testPath, 'r') as testdata:\n",
    "    idx107 = 0\n",
    "    idx130 = 0\n",
    "    i = 0\n",
    "    for row in testdata:\n",
    "        rowDict = json.loads(row)\n",
    "        if rowDict['seq_length'] == 107:\n",
    "            for x in range(107):\n",
    "                submissionDF.iloc[i] = {'reactivity': test107Preds[idx107][x][0],\n",
    "                                        'deg_Mg_pH10': test107Preds[idx107][x][1],\n",
    "                                        'deg_pH10': test107Preds[idx107][x][2],\n",
    "                                        'deg_Mg_50C': test107Preds[idx107][x][3],\n",
    "                                        'deg_50C':test107Preds[idx107][x][4]}\n",
    "                i += 1\n",
    "            idx107 += 1\n",
    "        elif rowDict['seq_length'] == 130:\n",
    "            for x in range(130):\n",
    "                submissionDF.iloc[i] = {'reactivity': test130Preds[idx130][x][0],\n",
    "                                        'deg_Mg_pH10': test130Preds[idx130][x][1],\n",
    "                                        'deg_pH10': test130Preds[idx130][x][2],\n",
    "                                        'deg_Mg_50C': test130Preds[idx130][x][3],\n",
    "                                        'deg_50C':test130Preds[idx130][x][4]}\n",
    "                i += 1\n",
    "            idx130 += 1\n",
    "        \n",
    "print(submissionDF)"
   ]
  },
  {
   "cell_type": "code",
   "execution_count": null,
   "metadata": {
    "id": "ZkAy-XwjISkq"
   },
   "outputs": [],
   "source": [
    "submissionDF.to_csv(dataFolder+'LSTMSubmission.csv')"
   ]
  },
  {
   "cell_type": "markdown",
   "metadata": {
    "id": "XEtd6KjCOwTP"
   },
   "source": [
    "![image.png](data:image/png;base64,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)"
   ]
  },
  {
   "cell_type": "markdown",
   "metadata": {
    "id": "7fj41caAOsfw"
   },
   "source": [
    "This submission would rank 1236 out of 1636 total submissions to the actual competition. LSTM made predictions where much better than CNN because it is more suited to sequence data, but the results were still not very competitive compared to the best solutions. One advantage this model has over our CNN model is that it ignored any training data with a high noise-to-signal ratio which eliminated noisy training data before training the LSTM model. \n",
    "\n",
    "The model did end up in a position which would be 251 positions on the leaderboard better, but the majority of final submissions for the competition were still better. The reason for this is most likely to be because of the best scores having extensive feature engineering, wheras for this submission we had no additional features generated to augment the training/test data other than what was directly given. Most of these submissions also used a blended model and ensembling of 10 or more different models, with the #1 ranked submission using over 50+ models blended to make each prediction."
   ]
  }
 ],
 "metadata": {
  "accelerator": "GPU",
  "colab": {
   "collapsed_sections": [],
   "name": "CS7140_Final_Project_LSTM.ipynb",
   "provenance": []
  },
  "kernelspec": {
   "display_name": "Python 3",
   "language": "python",
   "name": "python3"
  },
  "language_info": {
   "codemirror_mode": {
    "name": "ipython",
    "version": 3
   },
   "file_extension": ".py",
   "mimetype": "text/x-python",
   "name": "python",
   "nbconvert_exporter": "python",
   "pygments_lexer": "ipython3",
   "version": "3.8.5"
  }
 },
 "nbformat": 4,
 "nbformat_minor": 4
}
